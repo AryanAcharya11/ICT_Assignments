{
  "nbformat": 4,
  "nbformat_minor": 0,
  "metadata": {
    "colab": {
      "provenance": [],
      "include_colab_link": true
    },
    "kernelspec": {
      "name": "python3",
      "display_name": "Python 3"
    },
    "language_info": {
      "name": "python"
    }
  },
  "cells": [
    {
      "cell_type": "markdown",
      "metadata": {
        "id": "view-in-github",
        "colab_type": "text"
      },
      "source": [
        "<a href=\"https://colab.research.google.com/github/AryanAcharya11/ICT_Assignments/blob/main/Python_Case_Study_Aryan_.ipynb\" target=\"_parent\"><img src=\"https://colab.research.google.com/assets/colab-badge.svg\" alt=\"Open In Colab\"/></a>"
      ]
    },
    {
      "cell_type": "markdown",
      "source": [
        "# Answer the following questions using only builtin Python datatypes and functions. Do not use Numpy or Scipy (i.e. No library imports allowed)"
      ],
      "metadata": {
        "id": "zVV_KMSIUG-A"
      }
    },
    {
      "cell_type": "markdown",
      "source": [
        "# Q1. Write a function that return the range (maximum and minimun) of a given list of numbers"
      ],
      "metadata": {
        "id": "uZnK7VgWV5SI"
      }
    },
    {
      "cell_type": "code",
      "source": [
        "def find_range(numbers)\n",
        "  if not numbers\n",
        "\n",
        "    return none:\n",
        "   maximum = max(numbers)\n",
        "   minimum = min(numbers)\n",
        "   return maximum - minimum\n",
        "\n",
        "   data = []\n"
      ],
      "metadata": {
        "id": "vuAbJQcOWAM7"
      },
      "execution_count": null,
      "outputs": []
    },
    {
      "cell_type": "code",
      "source": [
        "def find_range(numbers):\n",
        "\n",
        "    smallest = numbers[0]\n",
        "    largest = numbers[0]\n",
        "\n",
        "    for num in numbers:\n",
        "        if num < smallest:\n",
        "            smallest = num\n",
        "        if num > largest:\n",
        "            largest = num\n",
        "\n",
        "\n",
        "    return largest - smallest\n",
        "\n",
        "data = [4, 7, 1, 9, 3]\n",
        "print(find_range(data))"
      ],
      "metadata": {
        "colab": {
          "base_uri": "https://localhost:8080/"
        },
        "id": "NGqlFJD02FMD",
        "outputId": "d197fc57-d5bd-4eed-ec58-8b7d44b8eecc"
      },
      "execution_count": null,
      "outputs": [
        {
          "output_type": "stream",
          "name": "stdout",
          "text": [
            "8\n"
          ]
        }
      ]
    },
    {
      "cell_type": "markdown",
      "source": [
        "## Q2. Write function that returns mean value of a list of numbers"
      ],
      "metadata": {
        "id": "Y5_v5a8_U1O-"
      }
    },
    {
      "cell_type": "code",
      "source": [
        "def mean(numbers):\n",
        "  if not numbers:\n",
        "    return None\n",
        "  return sum(numbers)/len(numbers)\n",
        "\n",
        "data = [1,2,3,4,5]\n",
        "print(\"Mean: \",mean(data))\n"
      ],
      "metadata": {
        "id": "RajjEyacU7Sc",
        "colab": {
          "base_uri": "https://localhost:8080/"
        },
        "outputId": "9366ec04-40a8-4121-8999-64efeea829b4"
      },
      "execution_count": null,
      "outputs": [
        {
          "output_type": "stream",
          "name": "stdout",
          "text": [
            "Mean:  3.0\n"
          ]
        }
      ]
    },
    {
      "cell_type": "markdown",
      "source": [
        "# Q3. Write a function that returns the median value of a list of numbers"
      ],
      "metadata": {
        "id": "OpeRxoEoVTIP"
      }
    },
    {
      "cell_type": "code",
      "source": [
        "def medianList(numbers):\n",
        "  if not numbers:\n",
        "    return None\n",
        "\n",
        "  sorted_nums = sorted(numbers)\n",
        "  n = len(sorted_nums)\n",
        "  mid = n // 2\n",
        "\n",
        "  if n % 2 == 1:\n",
        "    return sorted_nums[mid]\n",
        "  else:\n",
        "    return (sorted_nums[mid - 1] + sorted_nums[mid])/2\n",
        "\n",
        "data1 = [1,2,3,4,5]\n",
        "data2 = [1,2,3,4]\n",
        "\n",
        "print(\"Median of data1 is : \",medianList(data1))\n",
        "print(\"Median of data2 is : \",medianList(data2))\n"
      ],
      "metadata": {
        "id": "u1CUy0UOVaQi",
        "colab": {
          "base_uri": "https://localhost:8080/"
        },
        "outputId": "c0b141d7-e013-40b9-a9fb-461091a4ed26"
      },
      "execution_count": null,
      "outputs": [
        {
          "output_type": "stream",
          "name": "stdout",
          "text": [
            "Median of data1 is :  3\n",
            "Median of data2 is :  2.5\n"
          ]
        }
      ]
    },
    {
      "cell_type": "markdown",
      "source": [
        "## Q4. Write a function to return the mod of a list of numbers, if no mod exists, it should return None. If more than one mod exist, return the mod values as list"
      ],
      "metadata": {
        "id": "2EMOG7AZSqVn"
      }
    },
    {
      "cell_type": "code",
      "execution_count": 6,
      "metadata": {
        "id": "qnMm2dhhSk3-",
        "colab": {
          "base_uri": "https://localhost:8080/"
        },
        "outputId": "9f5edcaa-6d22-419f-c414-6f996d91b8e2"
      },
      "outputs": [
        {
          "output_type": "stream",
          "name": "stdout",
          "text": [
            "1\n",
            "[4, 6]\n",
            "None\n"
          ]
        }
      ],
      "source": [
        "def mode_list(num):\n",
        "    max_count = 0\n",
        "    modes = []\n",
        "\n",
        "    # Step 1: Find maximum frequency\n",
        "    for i in num:\n",
        "        count = 0\n",
        "        for val in num:\n",
        "            if val == i:\n",
        "                count += 1\n",
        "        if count > max_count:\n",
        "            max_count = count\n",
        "\n",
        "    # Step 2: Collect all numbers with max frequency\n",
        "    for i in num:\n",
        "        count = 0\n",
        "        for val in num:\n",
        "            if val == i:\n",
        "                count += 1\n",
        "        if count == max_count and i not in modes:\n",
        "            modes.append(i)\n",
        "\n",
        "    # Step 3: Decide return value\n",
        "    if max_count == 1:\n",
        "        return None\n",
        "    elif len(modes) == 1:\n",
        "        return modes[0]\n",
        "    else:\n",
        "        return modes\n",
        "\n",
        "\n",
        "# Test cases\n",
        "list1 = [1, 4, 6, 7, 3, 4, 1, 2, 1]\n",
        "print(mode_list(list1))  # 1\n",
        "\n",
        "list2 = [1, 4, 6, 4, 6]\n",
        "print(mode_list(list2))  # [4, 6]\n",
        "\n",
        "list3 = [1, 2, 3, 4]\n",
        "print(mode_list(list3))  # None"
      ]
    },
    {
      "cell_type": "markdown",
      "source": [
        "## Q5. Write function to compute a given percentile value (e.g. 90th percentile) of a list of numbers"
      ],
      "metadata": {
        "id": "LcqWwqtgTCiL"
      }
    },
    {
      "cell_type": "code",
      "source": [
        "def percentile(data, p):\n",
        "    data.sort()\n",
        "    n = len(data)\n",
        "    index = int((p/100) * n)\n",
        "    if index >= n:\n",
        "        index = n-1\n",
        "    return data[index]\n",
        "\n",
        "nums = [15, 20, 35, 40, 50]\n",
        "print(\"90th percentile:\", percentile(nums, 90))\n",
        "print(\"50th percentile:\", percentile(nums, 50))\n"
      ],
      "metadata": {
        "colab": {
          "base_uri": "https://localhost:8080/"
        },
        "id": "n0b_087XowRt",
        "outputId": "3650d2a2-e1c3-44ce-a85f-32bc1d5a7b31"
      },
      "execution_count": 9,
      "outputs": [
        {
          "output_type": "stream",
          "name": "stdout",
          "text": [
            "90th percentile: 50\n",
            "50th percentile: 35\n"
          ]
        }
      ]
    },
    {
      "cell_type": "markdown",
      "source": [
        "# Q6. Write a function that returns the lower bound of a list of numbers"
      ],
      "metadata": {
        "id": "N-TYHkDcWOfS"
      }
    },
    {
      "cell_type": "code",
      "source": [
        "def lower_bound(nums):\n",
        "    low = nums[0]\n",
        "    for n in nums:\n",
        "        if n < low:\n",
        "            low = n\n",
        "    return low\n",
        "\n",
        "nums = [15, 20, 35, 40, 50]\n",
        "print(\"Lower Bound:\", lower_bound(nums))\n"
      ],
      "metadata": {
        "id": "Y-RKPdKuW5nx",
        "colab": {
          "base_uri": "https://localhost:8080/"
        },
        "outputId": "b6bbac76-03bc-4784-b608-f80111fb7436"
      },
      "execution_count": 10,
      "outputs": [
        {
          "output_type": "stream",
          "name": "stdout",
          "text": [
            "Lower Bound: 15\n"
          ]
        }
      ]
    },
    {
      "cell_type": "markdown",
      "source": [
        "## Q7. Write function to return any outliers from a given list of numbers, if no outliers present it should return None"
      ],
      "metadata": {
        "id": "5aHfaI_jThpX"
      }
    },
    {
      "cell_type": "code",
      "source": [
        "def find_outliers(data):\n",
        "    data.sort()\n",
        "    n = len(data)\n",
        "\n",
        "    Q1 = data[n//4]\n",
        "    Q3 = data[(3*n)//4]\n",
        "\n",
        "    IQR = Q3 - Q1\n",
        "    lower = Q1 - 1.5 * IQR\n",
        "    upper = Q3 + 1.5 * IQR\n",
        "\n",
        "    outliers = []\n",
        "    for num in data:\n",
        "        if num < lower or num > upper:\n",
        "            outliers.append(num)\n",
        "\n",
        "    if len(outliers) == 0:\n",
        "        return None\n",
        "    return outliers\n",
        "\n",
        "\n",
        "nums = [10, 12, 13, 15, 16, 100]\n",
        "print(find_outliers(nums))\n",
        "\n",
        "nums2 = [10, 12, 13, 15, 16]\n",
        "print(find_outliers(nums2))\n",
        "\n"
      ],
      "metadata": {
        "id": "gG6-qzT7T0Si",
        "colab": {
          "base_uri": "https://localhost:8080/"
        },
        "outputId": "0b4a9ffb-0c9e-4db7-d712-2e79991154bb"
      },
      "execution_count": 12,
      "outputs": [
        {
          "output_type": "stream",
          "name": "stdout",
          "text": [
            "[100]\n",
            "None\n"
          ]
        }
      ]
    },
    {
      "cell_type": "markdown",
      "source": [
        "##Q8. Write a function to return standard deviation of a list of numbers"
      ],
      "metadata": {
        "id": "jI9t-tcDT5EK"
      }
    },
    {
      "cell_type": "code",
      "source": [
        "def standard_deviation(data):\n",
        "    n = len(data)\n",
        "    mean = sum(data) / n\n",
        "\n",
        "    squared_diff = []\n",
        "    for x in data:\n",
        "        squared_diff.append((x - mean) ** 2)\n",
        "\n",
        "    variance = sum(squared_diff) / n\n",
        "\n",
        "    std_dev = variance ** 0.5\n",
        "    return std_dev\n",
        "\n",
        "nums = [10, 12, 23, 23, 16, 23, 21, 16]\n",
        "print(\"Standard Deviation:\", standard_deviation(nums))\n"
      ],
      "metadata": {
        "id": "MMU_cMlLUFxJ",
        "colab": {
          "base_uri": "https://localhost:8080/"
        },
        "outputId": "f5a943f7-4e16-4200-c586-4c9ff567c9fb"
      },
      "execution_count": 13,
      "outputs": [
        {
          "output_type": "stream",
          "name": "stdout",
          "text": [
            "Standard Deviation: 4.898979485566356\n"
          ]
        }
      ]
    },
    {
      "cell_type": "markdown",
      "source": [
        "## Q9. Write function to compute and return Z-score values of a list of numbers"
      ],
      "metadata": {
        "id": "LufmQDJPURkM"
      }
    },
    {
      "cell_type": "code",
      "source": [
        "def z_scores(data):\n",
        "    n = len(data)\n",
        "    mean = sum(data) / n\n",
        "\n",
        "    squared_diff = []\n",
        "    for x in data:\n",
        "        squared_diff.append((x - mean) ** 2)\n",
        "    variance = sum(squared_diff) / n\n",
        "    std_dev = variance ** 0.5\n",
        "\n",
        "    z_list = []\n",
        "    for x in data:\n",
        "        z = (x - mean) / std_dev\n",
        "        z_list.append(z)\n",
        "\n",
        "    return z_list\n",
        "\n",
        "nums = [10, 12, 23, 23, 16, 23, 21, 16]\n",
        "print(\"Z-scores:\", z_scores(nums))\n"
      ],
      "metadata": {
        "id": "ml2qpSpFUYxV",
        "colab": {
          "base_uri": "https://localhost:8080/"
        },
        "outputId": "ba649c58-8f06-4f0e-d96d-24efaefc599c"
      },
      "execution_count": 15,
      "outputs": [
        {
          "output_type": "stream",
          "name": "stdout",
          "text": [
            "Z-scores: [-1.6329931618554523, -1.2247448713915892, 1.0206207261596576, 1.0206207261596576, -0.4082482904638631, 1.0206207261596576, 0.6123724356957946, -0.4082482904638631]\n"
          ]
        }
      ]
    },
    {
      "cell_type": "markdown",
      "source": [
        "## Q10. Write a function to compute and return the Pearson correlation coefficient value of two list of numbers"
      ],
      "metadata": {
        "id": "YQSNHIfxUb6s"
      }
    },
    {
      "cell_type": "code",
      "source": [
        "def pearson_corr(x, y):\n",
        "    n = len(x)\n",
        "\n",
        "    mean_x = sum(x) / n\n",
        "    mean_y = sum(y) / n\n",
        "\n",
        "    num = 0\n",
        "    den_x = 0\n",
        "    den_y = 0\n",
        "\n",
        "    for i in range(n):\n",
        "        dx = x[i] - mean_x\n",
        "        dy = y[i] - mean_y\n",
        "        num += dx * dy\n",
        "        den_x += dx ** 2\n",
        "        den_y += dy ** 2\n",
        "\n",
        "    r = num / ((den_x ** 0.5) * (den_y ** 0.5))\n",
        "    return r\n",
        "\n",
        "x = [10, 20, 30, 40, 50]\n",
        "y = [15, 25, 35, 45, 60]\n",
        "\n",
        "print(\"Pearson Correlation:\", pearson_corr(x, y))\n"
      ],
      "metadata": {
        "id": "1YGqr3T6Uk6H",
        "colab": {
          "base_uri": "https://localhost:8080/"
        },
        "outputId": "3b6869e2-fc5e-4e9a-d551-f995746738fc"
      },
      "execution_count": 16,
      "outputs": [
        {
          "output_type": "stream",
          "name": "stdout",
          "text": [
            "Pearson Correlation: 0.9958932064677041\n"
          ]
        }
      ]
    }
  ]
}